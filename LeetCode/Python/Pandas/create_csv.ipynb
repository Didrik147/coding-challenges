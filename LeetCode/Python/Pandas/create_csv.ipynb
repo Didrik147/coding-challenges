{
 "cells": [
  {
   "cell_type": "code",
   "execution_count": 53,
   "id": "b221f4c7",
   "metadata": {},
   "outputs": [],
   "source": [
    "import csv\n",
    "\n",
    "input_file = 'input.txt'\n",
    "output_file = 'output.csv'"
   ]
  },
  {
   "cell_type": "code",
   "execution_count": 54,
   "id": "31125c47",
   "metadata": {},
   "outputs": [
    {
     "name": "stdout",
     "output_type": "stream",
     "text": [
      "['name', 'salary']\n",
      "['Piper', '4548']\n",
      "['Grace', '28150']\n",
      "['Georgia', '1103']\n",
      "['Willow', '6593']\n",
      "['Finn', '74576']\n",
      "['Thomas', '24433']\n"
     ]
    }
   ],
   "source": [
    "with open(input_file, 'r') as f_in, open(output_file, 'w', newline='') as f_out:\n",
    "  reader = csv.reader(f_in, delimiter='|')\n",
    "  writer = csv.writer(f_out)\n",
    "  for row in reader:\n",
    "    if row[0][:1] != '+':\n",
    "      first_column = row[1].strip()\n",
    "      second_column = row[2].strip()\n",
    "      out_line = [first_column, second_column]\n",
    "      print(out_line)\n",
    "      writer.writerow(out_line) "
   ]
  },
  {
   "cell_type": "code",
   "execution_count": null,
   "id": "1b2a7f53",
   "metadata": {},
   "outputs": [],
   "source": []
  }
 ],
 "metadata": {
  "kernelspec": {
   "display_name": "Python 3",
   "language": "python",
   "name": "python3"
  },
  "language_info": {
   "codemirror_mode": {
    "name": "ipython",
    "version": 3
   },
   "file_extension": ".py",
   "mimetype": "text/x-python",
   "name": "python",
   "nbconvert_exporter": "python",
   "pygments_lexer": "ipython3",
   "version": "3.12.1"
  }
 },
 "nbformat": 4,
 "nbformat_minor": 5
}
