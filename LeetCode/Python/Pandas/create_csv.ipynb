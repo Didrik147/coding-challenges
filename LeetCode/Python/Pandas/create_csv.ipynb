{
 "cells": [
  {
   "cell_type": "code",
   "execution_count": null,
   "id": "b221f4c7",
   "metadata": {},
   "outputs": [],
   "source": [
    "import csv\n",
    "\n",
    "input_file = 'input.txt'\n",
    "output_file = 'output.csv'"
   ]
  },
  {
   "cell_type": "code",
   "execution_count": 37,
   "id": "31125c47",
   "metadata": {},
   "outputs": [
    {
     "name": "stdout",
     "output_type": "stream",
     "text": [
      "['actor_id', 'director_id', 'timestamp']\n",
      "['1', '1', '0']\n",
      "['1', '1', '1']\n",
      "['1', '1', '2']\n",
      "['1', '2', '3']\n",
      "['1', '2', '4']\n",
      "['2', '1', '5']\n",
      "['2', '1', '6']\n"
     ]
    }
   ],
   "source": [
    "with open(input_file, 'r') as f_in, open(output_file, 'w', newline='') as f_out:\n",
    "  reader = csv.reader(f_in, delimiter='|')\n",
    "  writer = csv.writer(f_out)\n",
    "  for row in reader:\n",
    "    row = [col.strip() for col in row]\n",
    "    if len(row) > 1 and row[1][0] != '-':\n",
    "      out_line = []\n",
    "      for i in range(len(row)):\n",
    "        column = row[i]\n",
    "        if len(column) > 0:\n",
    "          out_line.append(column)\n",
    "      \n",
    "      print(out_line)\n",
    "      writer.writerow(out_line)"
   ]
  },
  {
   "cell_type": "code",
   "execution_count": 35,
   "id": "1b2a7f53",
   "metadata": {},
   "outputs": [],
   "source": [
    "input_str = '''\n",
    "+-------------+-------------+-------------+\n",
    "| actor_id    | director_id | timestamp   |\n",
    "+-------------+-------------+-------------+\n",
    "| 1           | 1           | 0           |\n",
    "| 1           | 1           | 1           |\n",
    "| 1           | 1           | 2           |\n",
    "| 1           | 2           | 3           |\n",
    "| 1           | 2           | 4           |\n",
    "| 2           | 1           | 5           |\n",
    "| 2           | 1           | 6           |\n",
    "+-------------+-------------+-------------+\n",
    "'''\n"
   ]
  },
  {
   "cell_type": "code",
   "execution_count": 36,
   "id": "680e0d40",
   "metadata": {},
   "outputs": [],
   "source": [
    "with open('input.txt', 'w') as file:\n",
    "  file.write(input_str)"
   ]
  },
  {
   "cell_type": "code",
   "execution_count": null,
   "id": "c611e2aa",
   "metadata": {},
   "outputs": [],
   "source": []
  }
 ],
 "metadata": {
  "kernelspec": {
   "display_name": "Python 3",
   "language": "python",
   "name": "python3"
  },
  "language_info": {
   "codemirror_mode": {
    "name": "ipython",
    "version": 3
   },
   "file_extension": ".py",
   "mimetype": "text/x-python",
   "name": "python",
   "nbconvert_exporter": "python",
   "pygments_lexer": "ipython3",
   "version": "3.10.6"
  }
 },
 "nbformat": 4,
 "nbformat_minor": 5
}
